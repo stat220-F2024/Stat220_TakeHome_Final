{
  "nbformat": 4,
  "nbformat_minor": 0,
  "metadata": {
    "colab": {
      "provenance": []
    },
    "kernelspec": {
      "name": "python3",
      "display_name": "Python 3"
    },
    "language_info": {
      "name": "python"
    }
  },
  "cells": [
    {
      "cell_type": "markdown",
      "source": [
        "**Part 1**. In this analysis, we will explore a dataset from a health study designed to understand factors influencing individual stress levels. You can access the data set at\n",
        "\n",
        "https://richardson.byu.edu/220/stress.csv\n",
        "\n",
        "The dataset includes several predictors: Age, Occupation, Physical Activity Level, Sleep Quality, Daily Screen Time, Social Interactions, Financial Stress, and Diet Quality. The target variable is the Stress Level Score. Our objectives are to explore the data, fit various models, and interpret our findings."
      ],
      "metadata": {
        "id": "6PE8MMM-zEGM"
      }
    },
    {
      "cell_type": "markdown",
      "source": [
        "Problem 1. Perform an exploratory data analysis. Plot the target variable as well as each other continuous variable. Does it seem like any need to be transformed by taking the log of the data?\n"
      ],
      "metadata": {
        "id": "OlBfhpYj02jW"
      }
    },
    {
      "cell_type": "code",
      "source": [],
      "metadata": {
        "id": "ToJjRhR_1Fw0"
      },
      "execution_count": null,
      "outputs": []
    },
    {
      "cell_type": "markdown",
      "source": [],
      "metadata": {
        "id": "lLSiojZc1GML"
      }
    },
    {
      "cell_type": "markdown",
      "source": [
        "Problem 2. Prepare the data for a linear regression analysis by splitting the data into train and test groups, standardizing the continuous variables, and creating dummies for the categorical variables."
      ],
      "metadata": {
        "id": "RVEgayrlrPSA"
      }
    },
    {
      "cell_type": "code",
      "source": [],
      "metadata": {
        "id": "yY0L50TnrNX_"
      },
      "execution_count": null,
      "outputs": []
    },
    {
      "cell_type": "markdown",
      "source": [
        "Problem 3. Split the data into a train and test set. Fit a linear regression model with all the predictors on the train set. Remove variables so only significant features remain while confirming that the model performance improves by evaluating the model on the test set."
      ],
      "metadata": {
        "id": "0IHBQg2Q1kuF"
      }
    },
    {
      "cell_type": "code",
      "source": [],
      "metadata": {
        "id": "40LS2uT701_V"
      },
      "execution_count": null,
      "outputs": []
    },
    {
      "cell_type": "markdown",
      "source": [
        "Problem 4. From the model in Problem 3, what is the confidence interval for the regression coefficient associated with age?"
      ],
      "metadata": {
        "id": "rdGZN2_s7uSR"
      }
    },
    {
      "cell_type": "code",
      "source": [],
      "metadata": {
        "id": "QAdS0dVY7t3L"
      },
      "execution_count": null,
      "outputs": []
    },
    {
      "cell_type": "markdown",
      "source": [
        "Problem 5. Test adding age^2 and social_interaction^2 into the model. Test adding an interaction between screen time and sleep quality. Test adding an interaction between social interaction and financial stress. Determine if the higher order terms you have tested are significant or not. Remove the interactions that are not. The final model you get from this problem will be used in several other problems, so keep track of it!"
      ],
      "metadata": {
        "id": "j7RMQ1Vw10od"
      }
    },
    {
      "cell_type": "code",
      "execution_count": null,
      "metadata": {
        "id": "ineUaA1ZzBcB"
      },
      "outputs": [],
      "source": []
    },
    {
      "cell_type": "markdown",
      "source": [],
      "metadata": {
        "id": "D3ksNh6Y41ff"
      }
    },
    {
      "cell_type": "markdown",
      "source": [
        "Problem 6. Start again using data with all the predictors and with all higher order terms listed in problem 5 (meaning even if your previous models removed variables, add them all back in). Perform a LASSO regression model. Tune the model to find a good LASSO parameter."
      ],
      "metadata": {
        "id": "tE6Mx41d2mmX"
      }
    },
    {
      "cell_type": "code",
      "source": [],
      "metadata": {
        "id": "HJ3gag022y2i"
      },
      "execution_count": null,
      "outputs": []
    },
    {
      "cell_type": "markdown",
      "source": [
        "Problem 7. Build a regression tree for the data. Choose either maximum depth or cost complexity parameter. Test several possible values. Use out of sample model fit to determine which of the values you tested is the best."
      ],
      "metadata": {
        "id": "9dNup54H26UX"
      }
    },
    {
      "cell_type": "code",
      "source": [],
      "metadata": {
        "id": "CUoQawqw3xuU"
      },
      "execution_count": null,
      "outputs": []
    },
    {
      "cell_type": "markdown",
      "source": [
        "Problem 8. You have built three tuned models, the linear regression model with potential higher order terms, a LASSO regression model, and a regression tree. Use out of sample MSE to determine which model is the best."
      ],
      "metadata": {
        "id": "78WPg6Th36bg"
      }
    },
    {
      "cell_type": "code",
      "source": [],
      "metadata": {
        "id": "gL0aPiep4GyF"
      },
      "execution_count": null,
      "outputs": []
    },
    {
      "cell_type": "markdown",
      "source": [],
      "metadata": {
        "id": "9a1DcfqU4z9T"
      }
    },
    {
      "cell_type": "markdown",
      "source": [
        "Problem 9. Use feature importances for the regression tree model, p values for the linear regression model, and the coefficients from the LASSO model, state three predictors you find to be important for predicting stress. State three variables you  find to be either not important for predicting stress, or at least not as important as other predictors. Justify your reasoning by refering to specific output from the models."
      ],
      "metadata": {
        "id": "U5G0lNFG4HKv"
      }
    },
    {
      "cell_type": "code",
      "source": [],
      "metadata": {
        "id": "tVCZBnq74yWT"
      },
      "execution_count": null,
      "outputs": []
    },
    {
      "cell_type": "markdown",
      "source": [],
      "metadata": {
        "id": "YtxhMSJm5H-U"
      }
    },
    {
      "cell_type": "markdown",
      "source": [
        "Problem 10. You recieve a new data point. The new data point can be found at\n",
        "\n",
        "https://richardson.byu.edu/220/stress_new.csv\n",
        "\n",
        "Using the final linear regression from problem 5, predict what this individual's stress level will be."
      ],
      "metadata": {
        "id": "Ha6i-Oyd5dJZ"
      }
    },
    {
      "cell_type": "code",
      "source": [],
      "metadata": {
        "id": "MdiKEJD55clV"
      },
      "execution_count": null,
      "outputs": []
    },
    {
      "cell_type": "markdown",
      "source": [
        "Problem 11. For the new individual introduced in problem 11, find a prediction interval for the stress level."
      ],
      "metadata": {
        "id": "auQ3tuf58Z0n"
      }
    },
    {
      "cell_type": "code",
      "source": [],
      "metadata": {
        "id": "gBbjJlOs8ZTq"
      },
      "execution_count": null,
      "outputs": []
    },
    {
      "cell_type": "markdown",
      "source": [
        "Problem 12. Use all the variables from the original model and add all 4 higher order terms from problem 5. Build a Bayesian linear regression model. Standardize the data and use N(0,1) priors for the variables."
      ],
      "metadata": {
        "id": "V4s9rd_E5IRS"
      }
    },
    {
      "cell_type": "code",
      "source": [],
      "metadata": {
        "id": "Z-af1UWY8kdR"
      },
      "execution_count": null,
      "outputs": []
    },
    {
      "cell_type": "markdown",
      "source": [
        "**Part 2** A successful video game streamer is defined as someone who has over 1,000 subscribers to their platform. A data set of several video game streamers who log at least 5 hours a week can be found at\n",
        "\n",
        "https://richardson.byu.edu/220/game_stream.csv\n",
        "\n",
        "The target variable is \"success\" and is either 1 or 0. The other variables are predictor varibales and include streaming hours, genre, interaction level, equipment quality, and social media presence.\n",
        "\n",
        "First of all, a moment of silence for a whopping 47 streamers with more than 30 hours a week and less than 1,000 subscribers. Then get on with the rest of the problems!"
      ],
      "metadata": {
        "id": "2e6LucEG-f4G"
      }
    },
    {
      "cell_type": "markdown",
      "source": [
        "Problem 13. Split the data into a training and test set. Fit a logistic regression model to the training set."
      ],
      "metadata": {
        "id": "JF_t2C080X8L"
      }
    },
    {
      "cell_type": "code",
      "source": [],
      "metadata": {
        "id": "tNZYs_yU61zl"
      },
      "execution_count": null,
      "outputs": []
    },
    {
      "cell_type": "markdown",
      "source": [
        "Problem 14. Fit a classification tree to the training set."
      ],
      "metadata": {
        "id": "Pvo1-Zyh5e1z"
      }
    },
    {
      "cell_type": "code",
      "source": [],
      "metadata": {
        "id": "RVim8dXf5jnO"
      },
      "execution_count": null,
      "outputs": []
    },
    {
      "cell_type": "markdown",
      "source": [
        "Problem 15. Use out of sample AUC to compare the logistic regression model and the classification tree."
      ],
      "metadata": {
        "id": "hyOnpk0f5j6m"
      }
    },
    {
      "cell_type": "code",
      "source": [],
      "metadata": {
        "id": "iCA51oYs5yQc"
      },
      "execution_count": null,
      "outputs": []
    },
    {
      "cell_type": "markdown",
      "source": [
        "Problem 16. For the classification tree model, compute the confusion matrix for the predicted vales. These values automatically use 0.5 as a cut-off. Change the prediction cut-off to 0.6 and compute the confusion matrix again."
      ],
      "metadata": {
        "id": "rz17CFKd0I0F"
      }
    },
    {
      "cell_type": "code",
      "source": [],
      "metadata": {
        "id": "Db9-V7Ok0IJI"
      },
      "execution_count": null,
      "outputs": []
    }
  ]
}